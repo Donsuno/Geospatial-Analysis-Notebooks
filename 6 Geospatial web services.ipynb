{
 "cells": [
  {
   "cell_type": "markdown",
   "metadata": {},
   "source": [
    "# Day 3: Geospatial web services and Interactive maps"
   ]
  },
  {
   "cell_type": "markdown",
   "metadata": {},
   "source": [
    "### What is Geospatial Web Services? \n",
    "\n",
    "”A Web service that provides access to, or data processing on, geographic information. The OGC WebFeature Service (WFS), Web Map Service (WMS) are examples of geospatial Web service.” [IGI Global](https://www.igi-global.com/chapter/geospatial-interoperability/13798)\n",
    "\n",
    "The Open Geospatial Consortium [OGC](https://www.ogc.org) is an international not for profit organization committed to making quality [open standards](https://www.ogc.org/docs/is) for the global geospatial community. \n",
    "\n",
    "Web Map Service (WMS)::: provides pre-assembled maps (may contain both vector and raster) to a requesting client. Map is usually generated upon request or cached.\n",
    "\n",
    "Web Feature Service (WFS)::: allows clients to request raw vector data. May allow creating, editing, and deleting features on the server.\n"
   ]
  },
  {
   "cell_type": "markdown",
   "metadata": {},
   "source": [
    "# Part 1: how to retrieve geographical data "
   ]
  },
  {
   "attachments": {},
   "cell_type": "markdown",
   "metadata": {},
   "source": [
    "**We are going to retrieve geographical data from a popular platform called OpenStreetMap**\n",
    "\n",
    "[OpenStreetMap](https://www.openstreetmap.org/) is a collaborative mapping project, which aims at creating a free editable map of the world. More about it [here](https://en.wikipedia.org/wiki/OpenStreetMap).\n"
   ]
  },
  {
   "cell_type": "markdown",
   "metadata": {},
   "source": [
    "### Required modules for this session\n",
    "- osm\n",
    "- folium\n",
    "- matplotlib\n",
    "- ipyleaflet\n",
    "\n",
    "OSMnx module allows you to retrieve OpenStreetMap data using [OverPass API](https://wiki.openstreetmap.org/wiki/Overpass_API).\n",
    "\n",
    "We will download and visualize OSM data covering a specified area of interest in Copenhagen.\n",
    "\n",
    "``OSMnx`` allows you to specify an address to retrieve the OpenStreetMap data around that area. Couldn’t be better!"
   ]
  },
  {
   "cell_type": "code",
   "execution_count": null,
   "metadata": {},
   "outputs": [],
   "source": [
    "# import neccesary modules\n",
    "# osmnx is easy to use for downloading OpenStreetMap data\n",
    "import osmnx as ox\n",
    "import matplotlib.pyplot as plt\n",
    "%matplotlib inline\n",
    "\n",
    "# Specify the name that is used to seach for the data\n",
    "place_adr = \"Christianshavn, Copenhagen, Denmark\"\n",
    "\n",
    "# Fetch OSM street network from the address\n",
    "graph = ox.graph_from_address(place_adr, distance=1000)\n",
    "type(graph)\n"
   ]
  },
  {
   "cell_type": "code",
   "execution_count": null,
   "metadata": {
    "scrolled": false
   },
   "outputs": [],
   "source": [
    "# Plot the streets\n",
    "fig, ax = ox.plot_graph(graph)"
   ]
  },
  {
   "cell_type": "code",
   "execution_count": null,
   "metadata": {},
   "outputs": [],
   "source": [
    "# Retrieve the footprint of the address\n",
    "area = ox.gdf_from_place(place_adr)\n",
    "\n",
    "# Retrieve buildings from the area\n",
    "buildings = ox.footprints_from_address(place_adr, distance=1000)\n",
    "\n",
    "ox.footprints_from_address(place_adr, distance=1000)\n",
    "\n",
    "\n",
    "# What types are those?\n",
    "print(type(area))\n",
    "print(type(buildings))"
   ]
  },
  {
   "cell_type": "code",
   "execution_count": null,
   "metadata": {},
   "outputs": [],
   "source": [
    "fig, ax = ox.plot_footprints(buildings)"
   ]
  },
  {
   "cell_type": "markdown",
   "metadata": {},
   "source": [
    "Let’s also retrieve restaurants that are located on the area:"
   ]
  },
  {
   "cell_type": "code",
   "execution_count": null,
   "metadata": {},
   "outputs": [],
   "source": [
    "# Retrieve restaurants\n",
    "restaurants = ox.pois_from_address(place_adr, amenities=['restaurant'], distance= 1000)\n",
    "\n",
    "# How many restaurants do we have?\n",
    "len(restaurants)\n"
   ]
  },
  {
   "cell_type": "markdown",
   "metadata": {},
   "source": [
    "Let’s explore what kind of attributes we have in our restaurants GeoDataFrame"
   ]
  },
  {
   "cell_type": "code",
   "execution_count": null,
   "metadata": {},
   "outputs": [],
   "source": [
    "# Available columns\n",
    "restaurants.columns"
   ]
  },
  {
   "cell_type": "code",
   "execution_count": null,
   "metadata": {},
   "outputs": [],
   "source": [
    "buildings.columns"
   ]
  },
  {
   "cell_type": "code",
   "execution_count": null,
   "metadata": {},
   "outputs": [],
   "source": [
    "# Select some useful cols and print\n",
    "cols = ['alt_name', 'cuisine', 'opening_hours', 'outdoor_seating',\n",
    "        'phone', 'wheelchair', 'geometry', 'payment:bitcoin']\n",
    "\n",
    "restaurants[cols].head(12)\n"
   ]
  },
  {
   "cell_type": "markdown",
   "metadata": {},
   "source": [
    "We can now plot all these different OSM layers by using the familiar ``plot()`` function of Geopandas. As you might remember, the street network data was not in GeoDataFrame format (it was networkx.MultiDiGraph). Luckily, osmnx provides a convenient function ``graph_to_gdfs()`` that can convert the graph into two separate GeoDataFrames where the first one contains the information about the nodes and the second one about the edge.\n",
    "\n"
   ]
  },
  {
   "cell_type": "markdown",
   "metadata": {},
   "source": [
    "**Let’s extract the nodes and edges from the graph as GeoDataFrames:**\n"
   ]
  },
  {
   "cell_type": "code",
   "execution_count": null,
   "metadata": {
    "scrolled": false
   },
   "outputs": [],
   "source": [
    "# Retrieve nodes and edges\n",
    "nodes, edges = ox.graph_to_gdfs(graph)\n",
    "print(\"Nodes:\\n\", nodes.head(), '\\n')\n",
    "print(\"Edges:\\n\", edges.head(), '\\n')\n",
    "print(\"Type:\", type(edges))"
   ]
  },
  {
   "cell_type": "markdown",
   "metadata": {},
   "source": [
    "Let’s create a map out of the `streets`, `buildings`, `restaurants`, and the area of Polygon but let’s exclude the nodes (to keep the figure clearer)."
   ]
  },
  {
   "cell_type": "code",
   "execution_count": null,
   "metadata": {
    "scrolled": false
   },
   "outputs": [],
   "source": [
    "# Plot the footprint \n",
    "\n",
    "ax = area.plot(figsize=(60, 25),facecolor='white')\n",
    "\n",
    "# Plot streets\n",
    "edges.plot(ax=ax, linewidth=0.6, edgecolor=None)\n",
    "\n",
    "# Plot buildings\n",
    "buildings.plot(ax=ax, facecolor='gray', alpha=0.7)\n",
    "\n",
    "# Plot restaurants\n",
    "restaurant.plot(ax=ax, color='red', alpha=0.7, markersize=100)\n",
    "plt.tight_layout()\n",
    "\n",
    "\n",
    "# let's export a map from the area\n",
    "outfp = \"map.pdf\"\n",
    "plt.savefig(outfp, dpi=300)"
   ]
  },
  {
   "cell_type": "code",
   "execution_count": null,
   "metadata": {},
   "outputs": [],
   "source": [
    "# Plot the footprint \n",
    "\n",
    "ax = area.plot(facecolor='white')\n",
    "\n",
    "# Plot streets\n",
    "edges.plot(ax=ax, linewidth=1, edgecolor=None)\n",
    "\n",
    "# Plot buildings\n",
    "buildings.plot(ax=ax, facecolor='black', alpha=0.7)\n",
    "\n",
    "# Plot restaurants\n",
    "restaurants.plot(ax=ax, color='red', alpha=0.7, markersize=10)\n",
    "plt.tight_layout()\n",
    "\n",
    "# let's export a map from the area\n",
    "outfp = \"map.pdf\"\n",
    "plt.savefig(outfp, dpi=300)"
   ]
  },
  {
   "cell_type": "markdown",
   "metadata": {},
   "source": [
    "## 🏋 Exercise\n",
    "\n",
    "find restaurants that they have ``payment:bitcoin`` and export a map of them."
   ]
  },
  {
   "cell_type": "code",
   "execution_count": null,
   "metadata": {},
   "outputs": [],
   "source": []
  },
  {
   "cell_type": "markdown",
   "metadata": {},
   "source": [
    "# Part 2: how to make interactive maps"
   ]
  },
  {
   "cell_type": "markdown",
   "metadata": {},
   "source": [
    "### Why interactive maps?\n",
    "Static maps have been there forever, but it is the era of interactive maps so that the user can interact with them and explore more.\n",
    "\n",
    "Most interactive maps are made with [Leaflet](https://leafletjs.com) or [OpenLayers](https://openlayers.org) JavaScipt library. JavaScript (JS) is a programming language mostly used for adding interactive content (zoom-able, pan-able maps) on webpages.\n",
    "\n",
    "[Folium](https://python-visualization.github.io/folium/quickstart.html) library helps you to visualize data on an interactive Leaflet map.\n"
   ]
  },
  {
   "cell_type": "code",
   "execution_count": null,
   "metadata": {},
   "outputs": [],
   "source": [
    "# First, we are going to make a simple interactive web-map with no data on it. \n",
    "# We are going to visualize OpenStreetMap for Copenhagen.\n",
    "\n",
    "import folium\n",
    "\n",
    "# Create a Map instance\n",
    "m = folium.Map(location=[55.67, 12.57],\n",
    "    zoom_start=14, control_scale=True)\n",
    "m"
   ]
  },
  {
   "cell_type": "markdown",
   "metadata": {},
   "source": [
    "### Let's check Folium's help \n",
    "You can see what tiles you can visualize as basemap in your map such as:\n",
    "- \"OpenStreetMap\"\n",
    "- \"Mapbox Bright\" (Limited levels of zoom for free tiles)\n",
    "- \"Mapbox Control Room\" (Limited levels of zoom for free tiles)\n",
    "- \"Stamen\" (Terrain, Toner, and Watercolor)\n",
    "- \"Cloudmade\" (Must pass API key)\n",
    "- \"Mapbox\" (Must pass API key)\n",
    "- \"CartoDB\" (positron and dark_matter)"
   ]
  },
  {
   "cell_type": "code",
   "execution_count": null,
   "metadata": {
    "scrolled": true
   },
   "outputs": [],
   "source": [
    "help(folium.Map)"
   ]
  },
  {
   "cell_type": "code",
   "execution_count": null,
   "metadata": {
    "scrolled": false
   },
   "outputs": [],
   "source": [
    "import folium\n",
    "\n",
    "# Create a Map instance and this time add more attributes\n",
    "m = folium.Map(location=[55.67, 12.57], width='80%', height='80%', left='10%', top='0%', tiles=\"Stamen Toner\", zoom_start=8, control_scale=True)\n",
    "m"
   ]
  },
  {
   "cell_type": "code",
   "execution_count": null,
   "metadata": {},
   "outputs": [],
   "source": [
    "# let’s export it to html file on your local driver\n",
    "\n",
    "outfp = \"base_map.html\"\n",
    "m.save(outfp)\n"
   ]
  },
  {
   "cell_type": "markdown",
   "metadata": {},
   "source": [
    "Navigate to the file and open it with a text editor and check the script behind. You can also modify some settings there."
   ]
  },
  {
   "cell_type": "markdown",
   "metadata": {},
   "source": [
    "**Let's make one more map with AAU in the center**"
   ]
  },
  {
   "cell_type": "code",
   "execution_count": null,
   "metadata": {},
   "outputs": [],
   "source": [
    "import folium\n",
    "\n",
    "# Create a Map instance and this time add more attributes\n",
    "m = folium.Map(location=[55.66, 12.57], width='100%', height='100%', left='0%', top='0%', tiles='Stamen Toner', zoom_start=15, control_scale=True, prefer_canvas=True)\n",
    "m"
   ]
  },
  {
   "cell_type": "code",
   "execution_count": null,
   "metadata": {},
   "outputs": [],
   "source": [
    "# Let’s add a simple marker to the webmap.\n",
    "\n",
    "#Create a Map instance\n",
    "m = folium.Map(location=[55.6505, 12.5429],\n",
    "    zoom_start=16, control_scale=True)\n",
    "\n",
    "# Add marker\n",
    "# Run: help(folium.Icon) for more info about icons\n",
    "folium.Marker(\n",
    "    location=[55.6505, 12.5429],\n",
    "    popup='Aalborg University',\n",
    "    icon=folium.Icon(color='red', icon='info-sign'),\n",
    ").add_to(m)\n",
    "\n",
    "#Show map\n",
    "m\n"
   ]
  },
  {
   "cell_type": "code",
   "execution_count": null,
   "metadata": {},
   "outputs": [],
   "source": [
    "#you can read more about the markers here \n",
    "help(folium.Marker)"
   ]
  },
  {
   "cell_type": "markdown",
   "metadata": {},
   "source": [
    "and some interesting demos [here](https://python-visualization.github.io/folium/quickstart.html)\n",
    "\n"
   ]
  },
  {
   "cell_type": "markdown",
   "metadata": {},
   "source": [
    "Let's go to a mountainous area and enjoy a nice terrain map"
   ]
  },
  {
   "cell_type": "code",
   "execution_count": null,
   "metadata": {},
   "outputs": [],
   "source": [
    "# Let's go to a mountainous area and enjoy a nice terrain map\n",
    "m = folium.Map(location=[45.372, -121.6972], zoom_start=11, tiles='Stamen Terrain')\n",
    "\n",
    "tooltip = 'Hit me!'\n",
    "\n",
    "folium.Marker([45.3288, -121.6625], popup='<i>Mt. Hood Meadows</i>', tooltip=tooltip).add_to(m)\n",
    "folium.Marker([45.3311, -121.7113], popup='<b>Timberline Lodge</b>', tooltip=tooltip).add_to(m)\n",
    "folium.Marker([45.3231, -121.7143], popup='<i>Base camp</i>', tooltip=tooltip).add_to(m)\n",
    "folium.Marker([45.3341, -121.7233], popup='<b>Jumping spot</b>', tooltip=tooltip).add_to(m)\n",
    "\n",
    "m"
   ]
  },
  {
   "cell_type": "code",
   "execution_count": null,
   "metadata": {},
   "outputs": [],
   "source": [
    "\n",
    "m = folium.Map(\n",
    "    location=[55.6505, 12.5429],\n",
    "    tiles='Stamen Toner',\n",
    "    zoom_start=13\n",
    ")\n",
    "\n",
    "# the red one \n",
    "folium.Circle(\n",
    "    radius=100,\n",
    "    location=[55.6505, 12.5429],\n",
    "    popup='AAU',\n",
    "    color='crimson',\n",
    "    fill=True,\n",
    ").add_to(m)\n",
    "\n",
    "# the blue one\n",
    "folium.CircleMarker(\n",
    "    location=[55.6505, 12.5429],\n",
    "    radius=500,\n",
    "    popup='Area sorrounding AAU',\n",
    "    color='#3186cc',\n",
    "    fill=False,\n",
    "    fill_color='#3186cc'\n",
    ").add_to(m)\n",
    "\n",
    "# link to a color brewer for chosing color  http://colorbrewer2.org/# \n",
    "\n",
    "# a function to enable lat/lng pop-overs:\n",
    "m.add_child(folium.LatLngPopup())\n",
    "\n",
    "#x= m.add_child(folium.ClickForMarker(popup='Waypoint'))\n",
    "\n",
    "m"
   ]
  },
  {
   "cell_type": "code",
   "execution_count": null,
   "metadata": {},
   "outputs": [],
   "source": [
    "# Convert restaurants points to GeoJson\n",
    "res_gjson = folium.features.GeoJson(restaurants, name = \"Restaurants\")\n"
   ]
  },
  {
   "cell_type": "code",
   "execution_count": null,
   "metadata": {},
   "outputs": [],
   "source": [
    "# Create a Map instance\n",
    "m = folium.Map(location=[55.6716, 12.5970], tiles = 'Stamen Toner', zoom_start=14, control_scale=True)\n",
    "\n",
    "# Add points to the map instance\n",
    "res_gjson.add_to(m)\n",
    "\n",
    "# Alternative syntax for adding points to the map instance\n",
    "#m.add_child(res_gjson)\n",
    "\n",
    "#Show map\n",
    "m"
   ]
  },
  {
   "cell_type": "markdown",
   "metadata": {},
   "source": [
    "## Would you like to dig more into interactive maps?\n",
    "\n",
    "\n",
    "[Ipyleaflet](https://github.com/jupyter-widgets/ipyleaflet) is also another great library for making interactive maps. Better try it out on your own. Some materials [here](https://github.com/jupyter-widgets/ipyleaflet)\n"
   ]
  },
  {
   "cell_type": "markdown",
   "metadata": {},
   "source": [
    "Here are a few examples and interesting controls that you can add to your map"
   ]
  },
  {
   "cell_type": "code",
   "execution_count": null,
   "metadata": {},
   "outputs": [],
   "source": [
    "# let's import some classes of ipyleaflet\n",
    "from ipyleaflet import Map, basemaps, basemap_to_tiles\n",
    "\n",
    "# we create a map instance just like we did with folium\n",
    "\n",
    "m = Map(\n",
    "    layers=(basemap_to_tiles(basemaps.NASAGIBS.ModisTerraTrueColorCR, \"2020-05-28\"), ),\n",
    "    center=(53.204793, 12.121558),\n",
    "    zoom = 6\n",
    ")\n",
    "\n",
    "m\n"
   ]
  },
  {
   "cell_type": "markdown",
   "metadata": {},
   "source": [
    "### Note the basemap is a satellite image from [Modis-Terra](https://modis.gsfc.nasa.gov/about/)"
   ]
  },
  {
   "cell_type": "code",
   "execution_count": null,
   "metadata": {},
   "outputs": [],
   "source": [
    "# in this exmaple, you can make a split map showing two different kinds of basemaps, left: ESRI world imagery, \n",
    "# Right:Modis-Terra\n",
    "\n",
    "from ipyleaflet import Map, basemaps, basemap_to_tiles, SplitMapControl, FullScreenControl\n",
    "\n",
    "#create map instance with center point and zoom level\n",
    "m = Map(center=(42.6824, 365.581), zoom=5)\n",
    "\n",
    "# set right and left windows' content, you can set the date of the image. Good luck to find a cloud free image\n",
    "right_layer = basemap_to_tiles(basemaps.NASAGIBS.ModisTerraTrueColorCR, \"2019-07-11\")\n",
    "left_layer = basemap_to_tiles(basemaps.Esri.WorldImagery)\n",
    "\n",
    "# add split control\n",
    "control = SplitMapControl(left_layer=left_layer, right_layer=right_layer)\n",
    "m.add_control(control)\n",
    "\n",
    "# add full screen control\n",
    "m.add_control(FullScreenControl())\n",
    "\n",
    "# show the map\n",
    "m"
   ]
  },
  {
   "cell_type": "markdown",
   "metadata": {},
   "source": [
    "``GeoData`` is an ``ipyleaflet`` class that allows you to visualize a GeoDataFrame on the Map.\n",
    "\n",
    "\n"
   ]
  },
  {
   "cell_type": "code",
   "execution_count": null,
   "metadata": {},
   "outputs": [],
   "source": [
    "from ipyleaflet import Map, GeoData, basemaps, LayersControl, WidgetControl\n",
    "from ipywidgets import IntSlider, jslink\n",
    "\n",
    "import geopandas\n",
    "import json\n",
    "\n",
    "#let's read some coarse scale data from naturalearth, the data being rivers and countries boundaries\n",
    "countries = geopandas.read_file(geopandas.datasets.get_path('naturalearth_lowres'))\n",
    "rivers = geopandas.read_file(\"https://www.naturalearthdata.com/http//www.naturalearthdata.com/download/10m/physical/ne_10m_rivers_lake_centerlines.zip\")\n",
    "\n",
    "# add map instance\n",
    "m = Map(center=(52.3,12.0), zoom = 3, basemap= basemaps.Esri.WorldTopoMap)\n",
    "\n",
    "# add a control on the map to allow us to turn the two layers on and off...we also set the make up of the files e.g.,\n",
    "# transparency, thickness, color, etc.\n",
    "\n",
    "geo_data = GeoData(geo_dataframe = countries,\n",
    "                   style={'color': 'black', 'fillColor': '#d7d7d7', 'opacity':0.2, 'weight':1.9, 'dashArray':'2', 'fillOpacity':0.6},\n",
    "                   hover_style={'fillColor': 'red' , 'fillOpacity': 0.2},\n",
    "                   name = 'Countries')\n",
    "\n",
    "rivers_data = GeoData(geo_dataframe = rivers,\n",
    "                   style={'color': 'red', 'opacity':3, 'weight':1.9, 'dashArray':'2', 'fillOpacity':0.6},\n",
    "                   hover_style={'fillColor': 'red' , 'fillOpacity': 0.2},\n",
    "                   name = 'Rivers')\n",
    "\n",
    "# add them to the map instance\n",
    "m.add_layer(rivers_data)\n",
    "m.add_layer(geo_data)\n",
    "m.add_control(LayersControl())\n",
    "\n",
    "# let's add a zoom slider to the right conrner\n",
    "zoom_slider = IntSlider(description='Zoom level:', min=0, max=15, value=6)\n",
    "jslink((zoom_slider, 'value'), (m, 'zoom'))\n",
    "widget_control1 = WidgetControl(widget=zoom_slider, position='topright')\n",
    "m.add_control(widget_control1)\n",
    "\n",
    "m"
   ]
  },
  {
   "cell_type": "markdown",
   "metadata": {},
   "source": [
    "####  If you would like to visualize velocity related data e.g. wind, cars movement, trajectories, etc. you can learn from the following example"
   ]
  },
  {
   "cell_type": "code",
   "execution_count": null,
   "metadata": {},
   "outputs": [],
   "source": [
    "from ipyleaflet import Map, TileLayer, basemaps\n",
    "from ipyleaflet.velocity import Velocity\n",
    "import xarray as xr\n",
    "import os\n",
    "\n",
    "# load a sample global wind data\n",
    "if not os.path.exists('wind-global.nc'):\n",
    "  url = 'https://github.com/benbovy/xvelmap/raw/master/notebooks/wind-global.nc'\n",
    "  import requests\n",
    "  r = requests.get(url)\n",
    "  wind_data = r.content\n",
    "  with open('wind-global.nc', 'wb') as f:\n",
    "      f.write(wind_data)\n",
    "\n",
    "# let's set the map instance\n",
    "center = [56,13]\n",
    "zoom = 7\n",
    "m = Map(center=center, zoom=zoom, interpolation='nearest', basemap=basemaps.CartoDB.DarkMatter)\n",
    "\n",
    "ds = xr.open_dataset('wind-global.nc')\n",
    "display_options = {\n",
    "    'velocityType': 'Global Wind',\n",
    "    'displayPosition': 'bottomleft',\n",
    "    'displayEmptyString': 'No wind data'\n",
    "}\n",
    "wind = Velocity(data=ds,\n",
    "                zonal_speed='u_wind',\n",
    "                meridional_speed='v_wind',\n",
    "                latitude_dimension='lat',\n",
    "                longitude_dimension='lon',\n",
    "                velocity_scale=0.01,\n",
    "                max_velocity=20,\n",
    "                display_options=display_options)\n",
    "m.add_layer(wind)\n",
    "\n",
    "m"
   ]
  },
  {
   "cell_type": "markdown",
   "metadata": {},
   "source": [
    "If you have a moving object or trajectory data, this might be of interest"
   ]
  },
  {
   "cell_type": "code",
   "execution_count": null,
   "metadata": {},
   "outputs": [],
   "source": [
    "from ipyleaflet import Map, AntPath\n",
    "\n",
    "m = Map(center=(51.332, 6.853), zoom=10)\n",
    "\n",
    "ant_path = AntPath(\n",
    "    locations=[\n",
    "        [51.185, 6.773], [51.182, 6.752], [51.185, 6.733], [51.194, 6.729],\n",
    "        [51.205, 6.732], [51.219, 6.723], [51.224, 6.723], [51.227, 6.728],\n",
    "        [51.228, 6.734], [51.226, 6.742], [51.221, 6.752], [51.221, 6.758],\n",
    "        [51.224, 6.765], [51.230, 6.768], [51.239, 6.765], [51.246, 6.758],\n",
    "        [51.252, 6.745], [51.257, 6.724], [51.262, 6.711], [51.271, 6.701],\n",
    "        [51.276, 6.702], [51.283, 6.710], [51.297, 6.725], [51.304, 6.732],\n",
    "        [51.312, 6.735], [51.320, 6.734], [51.326, 6.726], [51.334, 6.713],\n",
    "        [51.340, 6.696], [51.344, 6.678], [51.349, 6.662], [51.354, 6.655],\n",
    "        [51.360, 6.655], [51.366, 6.662], [51.369, 6.675], [51.373, 6.704],\n",
    "        [51.376, 6.715], [51.385, 6.732], [51.394, 6.741], [51.402, 6.743],\n",
    "        [51.411, 6.742], [51.420, 6.733], [51.429, 6.718], [51.439, 6.711],\n",
    "        [51.448, 6.716], [51.456, 6.724], [51.466, 6.719], [51.469, 6.713],\n",
    "        [51.470, 6.701], [51.473, 6.686], [51.479, 6.680], [51.484, 6.680],\n",
    "        [51.489, 6.685], [51.493, 6.700], [51.497, 6.714]\n",
    "    ],\n",
    "    dash_array=[1, 10],\n",
    "    delay=1000,\n",
    "    color='#7590ba',\n",
    "    pulse_color='#3f6fba'\n",
    ")\n",
    "\n",
    "m.add_layer(ant_path)\n",
    "\n",
    "m"
   ]
  },
  {
   "cell_type": "code",
   "execution_count": null,
   "metadata": {},
   "outputs": [],
   "source": []
  },
  {
   "cell_type": "markdown",
   "metadata": {},
   "source": [
    "OK. Here is one solution to the exercise in the beginning of this notebook."
   ]
  },
  {
   "cell_type": "code",
   "execution_count": null,
   "metadata": {},
   "outputs": [],
   "source": [
    "# Print only selected cols\n",
    "\n",
    "grouped = restaurants.groupby('payment:bitcoin') \n",
    "\n",
    "grouped"
   ]
  },
  {
   "cell_type": "code",
   "execution_count": null,
   "metadata": {},
   "outputs": [],
   "source": [
    "# Iterate over the group object \n",
    "for key, values in grouped: \n",
    "    bit_wel = values \n",
    "    \n",
    "# Let's see what is the LAST item and key that we iterated \n",
    "print(len(values), ' restaurant(s) take(s) bitcoin.')\n",
    "print(bit_wel)\n"
   ]
  },
  {
   "cell_type": "code",
   "execution_count": null,
   "metadata": {},
   "outputs": [],
   "source": [
    "# Plot the footprint \n",
    "\n",
    "ax = area.plot(figsize=(60, 25),facecolor='white')\n",
    "\n",
    "# Plot streets\n",
    "edges.plot(ax=ax, linewidth=0.6, edgecolor=None)\n",
    "\n",
    "# Plot buildings\n",
    "buildings.plot(ax=ax, facecolor='gray', alpha=0.7)\n",
    "\n",
    "# Plot restaurants\n",
    "bit_wel.plot(ax=ax, color='red', alpha=0.7, markersize=100)\n",
    "plt.tight_layout()\n",
    "\n",
    "\n",
    "# let's export a map from the area\n",
    "outfp = \"map_bit.pdf\"\n",
    "plt.savefig(outfp, dpi=600)"
   ]
  }
 ],
 "metadata": {
  "kernelspec": {
   "display_name": "Python 3",
   "language": "python",
   "name": "python3"
  },
  "language_info": {
   "codemirror_mode": {
    "name": "ipython",
    "version": 3
   },
   "file_extension": ".py",
   "mimetype": "text/x-python",
   "name": "python",
   "nbconvert_exporter": "python",
   "pygments_lexer": "ipython3",
   "version": "3.7.6"
  }
 },
 "nbformat": 4,
 "nbformat_minor": 2
}
